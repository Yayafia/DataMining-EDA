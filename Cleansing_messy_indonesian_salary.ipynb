{
  "nbformat": 4,
  "nbformat_minor": 0,
  "metadata": {
    "colab": {
      "provenance": []
    },
    "kernelspec": {
      "name": "python3",
      "display_name": "Python 3"
    },
    "language_info": {
      "name": "python"
    }
  },
  "cells": [
    {
      "cell_type": "code",
      "execution_count": null,
      "metadata": {
        "id": "xXYy9N4-G8dB"
      },
      "outputs": [],
      "source": [
        "# =====================================================\n",
        "# 1. Import Library\n",
        "# =====================================================\n",
        "import pandas as pd\n",
        "import numpy as np\n",
        "import re"
      ]
    },
    {
      "cell_type": "code",
      "source": [
        "# =====================================================\n",
        "# 2. Menghubungkan Google Colab dengan Google Drive\n",
        "# =====================================================\n",
        "from google.colab import drive\n",
        "drive.mount('/content/drive')"
      ],
      "metadata": {
        "colab": {
          "base_uri": "https://localhost:8080/"
        },
        "id": "HvT8Sk60II3f",
        "outputId": "e6699dd1-a82d-45ae-8e54-86d1515fc1e7"
      },
      "execution_count": null,
      "outputs": [
        {
          "output_type": "stream",
          "name": "stdout",
          "text": [
            "Mounted at /content/drive\n"
          ]
        }
      ]
    },
    {
      "cell_type": "code",
      "source": [
        "# =====================================================\n",
        "# 3. Membaca Dataset Kotor\n",
        "# =====================================================\n",
        "file_path = '/content/drive/MyDrive/DataMining/Data_EDA/Dataset_kotor/messy_data_Indonesian Salary.csv'\n",
        "\n",
        "# Gunakan delimiter otomatis, beberapa dataset pakai koma atau titik koma\n",
        "df = pd.read_csv(file_path, delimiter=None, engine='python')\n",
        "\n",
        "print(\"\\nData Awal (5 baris pertama):\")\n",
        "print(df.head())"
      ],
      "metadata": {
        "colab": {
          "base_uri": "https://localhost:8080/"
        },
        "id": "kUaIvYE1ILA5",
        "outputId": "5a18201a-84cc-43e5-d533-9c8b059ca6aa"
      },
      "execution_count": null,
      "outputs": [
        {
          "output_type": "stream",
          "name": "stdout",
          "text": [
            "\n",
            "Data Awal (5 baris pertama):\n",
            "           REGION    SALARY  YEAR\n",
            "0            ACEH  128000.0  1997\n",
            "1  SUMATERA UTARA  151000.0  1997\n",
            "2  SUMATERA BARAT  119000.0  1997\n",
            "3            RIAU  151500.0  1997\n",
            "4           JAMBI  119500.0  1997\n"
          ]
        }
      ]
    },
    {
      "cell_type": "code",
      "source": [
        "# =====================================================\n",
        "# 4. Menampilkan Struktur Data\n",
        "# =====================================================\n",
        "print(\"\\nInformasi Dataset:\")\n",
        "print(df.info())\n",
        "\n",
        "print(\"\\nTipe Data:\")\n",
        "print(df.dtypes)"
      ],
      "metadata": {
        "colab": {
          "base_uri": "https://localhost:8080/"
        },
        "id": "NQc5c1VBIPly",
        "outputId": "26457697-7bee-477a-9b30-253c08ca5494"
      },
      "execution_count": null,
      "outputs": [
        {
          "output_type": "stream",
          "name": "stdout",
          "text": [
            "\n",
            "Informasi Dataset:\n",
            "<class 'pandas.core.frame.DataFrame'>\n",
            "RangeIndex: 983 entries, 0 to 982\n",
            "Data columns (total 3 columns):\n",
            " #   Column  Non-Null Count  Dtype  \n",
            "---  ------  --------------  -----  \n",
            " 0   REGION  983 non-null    object \n",
            " 1   SALARY  983 non-null    float64\n",
            " 2   YEAR    983 non-null    int64  \n",
            "dtypes: float64(1), int64(1), object(1)\n",
            "memory usage: 23.2+ KB\n",
            "None\n",
            "\n",
            "Tipe Data:\n",
            "REGION     object\n",
            "SALARY    float64\n",
            "YEAR        int64\n",
            "dtype: object\n"
          ]
        }
      ]
    },
    {
      "cell_type": "code",
      "source": [
        "# =====================================================\n",
        "# 5. Data Cleansing - Standarisasi Nama Kolom\n",
        "# =====================================================\n",
        "df.columns = df.columns.str.strip().str.title().str.replace(' ', '_')\n",
        "print(\"\\nNama Kolom Setelah Standarisasi:\")\n",
        "print(df.columns)"
      ],
      "metadata": {
        "colab": {
          "base_uri": "https://localhost:8080/"
        },
        "id": "QE8bn9E0ISWB",
        "outputId": "cfcd0540-1f9d-48fe-81b9-402e0646e159"
      },
      "execution_count": null,
      "outputs": [
        {
          "output_type": "stream",
          "name": "stdout",
          "text": [
            "\n",
            "Nama Kolom Setelah Standarisasi:\n",
            "Index(['Region', 'Salary', 'Year'], dtype='object')\n"
          ]
        }
      ]
    },
    {
      "cell_type": "code",
      "source": [
        "# =====================================================\n",
        "# 6. Cleansing Kolom Posisi / Jabatan\n",
        "# =====================================================\n",
        "if 'Job_Title' in df.columns:\n",
        "    df['Job_Title'] = df['Job_Title'].astype(str).str.strip().str.title()\n",
        "    df['Job_Title'] = df['Job_Title'].replace({'Data_Scientist': 'Data Scientist',\n",
        "                                               'Software_Engineer': 'Software Engineer'})"
      ],
      "metadata": {
        "id": "ole38fOJIUdh"
      },
      "execution_count": null,
      "outputs": []
    },
    {
      "cell_type": "code",
      "source": [
        "# =====================================================\n",
        "# 7. Cleansing Kolom Lokasi\n",
        "# =====================================================\n",
        "if 'Location' in df.columns:\n",
        "    df['Location'] = df['Location'].astype(str).str.strip().str.title()\n",
        "    df['Location'] = df['Location'].replace({'Jakarta_Selatan': 'Jakarta Selatan',\n",
        "                                             'Jakarta_Barat': 'Jakarta Barat'})"
      ],
      "metadata": {
        "id": "vmJZDJZKIYUU"
      },
      "execution_count": null,
      "outputs": []
    },
    {
      "cell_type": "code",
      "source": [
        "# =====================================================\n",
        "# 8. Cleansing Kolom Gaji (Salary)\n",
        "# =====================================================\n",
        "if 'Salary' in df.columns:\n",
        "    # Hapus simbol mata uang, koma, titik, dan ubah ke numeric\n",
        "    df['Salary'] = df['Salary'].astype(str)\n",
        "    df['Salary'] = df['Salary'].str.replace(r'[^0-9]', '', regex=True)\n",
        "    df['Salary'] = pd.to_numeric(df['Salary'], errors='coerce')"
      ],
      "metadata": {
        "id": "H9HsxgHCIafh"
      },
      "execution_count": null,
      "outputs": []
    },
    {
      "cell_type": "code",
      "source": [
        "# =====================================================\n",
        "# 9. Cleansing Kolom Pengalaman (Experience)\n",
        "# =====================================================\n",
        "if 'Experience' in df.columns:\n",
        "    df['Experience'] = df['Experience'].astype(str).str.lower().str.replace('years', '').str.strip()\n",
        "    df['Experience'] = pd.to_numeric(df['Experience'], errors='coerce')\n"
      ],
      "metadata": {
        "id": "g7_fTOF1I_6P"
      },
      "execution_count": null,
      "outputs": []
    },
    {
      "cell_type": "code",
      "source": [
        "# =====================================================\n",
        "# 10. Menghapus Duplikasi Data\n",
        "# =====================================================\n",
        "duplicate_rows = df[df.duplicated(keep=False)]\n",
        "print(\"\\nJumlah data duplikat:\", len(duplicate_rows))\n",
        "\n",
        "df_cleaned = df.drop_duplicates(keep='first')\n",
        "print(\"Jumlah data setelah menghapus duplikasi:\", len(df_cleaned))"
      ],
      "metadata": {
        "colab": {
          "base_uri": "https://localhost:8080/"
        },
        "id": "g-5pd6fjJDaM",
        "outputId": "6bccef58-353a-4f6a-b2a2-60eaa31a1878"
      },
      "execution_count": null,
      "outputs": [
        {
          "output_type": "stream",
          "name": "stdout",
          "text": [
            "\n",
            "Jumlah data duplikat: 0\n",
            "Jumlah data setelah menghapus duplikasi: 983\n"
          ]
        }
      ]
    },
    {
      "cell_type": "code",
      "source": [
        "# =====================================================\n",
        "# 11. Menangani Missing Value\n",
        "# =====================================================\n",
        "# Ganti NaN pada kolom Salary dengan median (karena data gaji biasanya tidak normal)\n",
        "if 'Salary' in df_cleaned.columns:\n",
        "    df_cleaned['Salary'].fillna(df_cleaned['Salary'].median(), inplace=True)\n",
        "\n",
        "# Ganti NaN pada kolom Experience dengan rata-rata\n",
        "if 'Experience' in df_cleaned.columns:\n",
        "    df_cleaned['Experience'].fillna(df_cleaned['Experience'].mean(), inplace=True)"
      ],
      "metadata": {
        "colab": {
          "base_uri": "https://localhost:8080/"
        },
        "id": "jHV50ib5JGi5",
        "outputId": "79b592bf-9317-4cf8-a900-b632a1e7efec"
      },
      "execution_count": null,
      "outputs": [
        {
          "output_type": "stream",
          "name": "stderr",
          "text": [
            "/tmp/ipython-input-657731138.py:6: FutureWarning: A value is trying to be set on a copy of a DataFrame or Series through chained assignment using an inplace method.\n",
            "The behavior will change in pandas 3.0. This inplace method will never work because the intermediate object on which we are setting values always behaves as a copy.\n",
            "\n",
            "For example, when doing 'df[col].method(value, inplace=True)', try using 'df.method({col: value}, inplace=True)' or df[col] = df[col].method(value) instead, to perform the operation inplace on the original object.\n",
            "\n",
            "\n",
            "  df_cleaned['Salary'].fillna(df_cleaned['Salary'].median(), inplace=True)\n"
          ]
        }
      ]
    },
    {
      "cell_type": "code",
      "source": [
        "# =====================================================\n",
        "# 12. Menyimpan Data Bersih\n",
        "# =====================================================\n",
        "output_path = '/content/drive/MyDrive/DataMining/Data_EDA/Dataset_bersih/cleaned_data_Indonesian_Salary.csv'\n",
        "df_cleaned.to_csv(output_path, index=False)\n",
        "print(f\"\\n✅ File berhasil disimpan di: {output_path}\")"
      ],
      "metadata": {
        "colab": {
          "base_uri": "https://localhost:8080/"
        },
        "id": "rY7BZ89oJJko",
        "outputId": "48ef0651-7c32-402e-db2e-9011c1732f63"
      },
      "execution_count": null,
      "outputs": [
        {
          "output_type": "stream",
          "name": "stdout",
          "text": [
            "\n",
            "✅ File berhasil disimpan di: /content/drive/MyDrive/DataMining/Data_EDA/Dataset_bersih/cleaned_data_Indonesian_Salary.csv\n"
          ]
        }
      ]
    },
    {
      "cell_type": "code",
      "source": [
        "# =====================================================\n",
        "# 13. Cek Hasil Akhir\n",
        "# =====================================================\n",
        "print(\"\\nData Setelah Cleansing:\")\n",
        "print(df_cleaned.head(15))"
      ],
      "metadata": {
        "colab": {
          "base_uri": "https://localhost:8080/"
        },
        "id": "cT_zY_h4JNmt",
        "outputId": "35f032ca-98dc-46bf-8a17-23e0a88282c4"
      },
      "execution_count": null,
      "outputs": [
        {
          "output_type": "stream",
          "name": "stdout",
          "text": [
            "\n",
            "Data Setelah Cleansing:\n",
            "              Region   Salary  Year\n",
            "0               ACEH  1280000  1997\n",
            "1     SUMATERA UTARA  1510000  1997\n",
            "2     SUMATERA BARAT  1190000  1997\n",
            "3               RIAU  1515000  1997\n",
            "4              JAMBI  1195000  1997\n",
            "5   SUMATERA SELATAN  1275000  1997\n",
            "6           BENGKULU  1275000  1997\n",
            "7            LAMPUNG  1260000  1997\n",
            "8          KEP. RIAU  2350000  1997\n",
            "9        DKI JAKARTA  1725000  1997\n",
            "10        JAWA BARAT  1725000  1997\n",
            "11       JAWA TENGAH  1130000  1997\n",
            "12     DI YOGYAKARTA  1065000  1997\n",
            "13        JAWA TIMUR  1325000  1997\n",
            "14              BALI  1415000  1997\n"
          ]
        }
      ]
    }
  ]
}