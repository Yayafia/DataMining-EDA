{
  "nbformat": 4,
  "nbformat_minor": 0,
  "metadata": {
    "colab": {
      "provenance": []
    },
    "kernelspec": {
      "name": "python3",
      "display_name": "Python 3"
    },
    "language_info": {
      "name": "python"
    }
  },
  "cells": [
    {
      "cell_type": "code",
      "execution_count": null,
      "metadata": {
        "id": "FjG-rptV-gtO"
      },
      "outputs": [],
      "source": [
        "# 1. Import Library\n",
        "import pandas as pd\n",
        "import re\n",
        "import numpy as np"
      ]
    },
    {
      "cell_type": "code",
      "source": [
        "# 2. Menghubungkan Google Colab dengan Google Drive\n",
        "from google.colab import drive\n",
        "drive.mount('/content/drive')"
      ],
      "metadata": {
        "colab": {
          "base_uri": "https://localhost:8080/"
        },
        "id": "K2SmFN9JE1NH",
        "outputId": "7d35fdc7-556a-4089-c3dd-dcddf914eb11"
      },
      "execution_count": null,
      "outputs": [
        {
          "output_type": "stream",
          "name": "stdout",
          "text": [
            "Mounted at /content/drive\n"
          ]
        }
      ]
    },
    {
      "cell_type": "code",
      "source": [
        "# 3. Coba deteksi otomatis delimiter\n",
        "file_path = '/content/drive/MyDrive/DataMining/Data_EDA/Dataset_kotor/messy_data_school.csv'\n",
        "\n",
        "# Buka beberapa baris pertama biar kita tahu delimternya apa\n",
        "with open(file_path, 'r', encoding='utf-8') as f:\n",
        "    for i in range(5):\n",
        "        print(f.readline())"
      ],
      "metadata": {
        "colab": {
          "base_uri": "https://localhost:8080/"
        },
        "id": "3maOHpnBE3JI",
        "outputId": "fa277b5f-d502-438f-8046-ecbda60f996c"
      },
      "execution_count": null,
      "outputs": [
        {
          "output_type": "stream",
          "name": "stdout",
          "text": [
            "province_id,province_name,city_id,city_name,district_id,district,npsn,school_name,stage,status,street_name,lat,long\n",
            "\n",
            "250000,Papua,251800,Kab. Tolikara,251831,Kec. Gilungbandu,60303704,SMP SATAP KAGI,SMP,N,Gilubandu,-3.4159950,138.3397040\n",
            "\n",
            "250000,Papua,251800,Kab. Tolikara,251822,Kec. Wunin,60302267,SD YPPGI WURINERI,SD,S,Wunin,-3.4790000,138.6800000\n",
            "\n",
            "250000,Papua,251800,Kab. Tolikara,251803,Kec. Bokondini,60302279,SMAN BOKONDINI,SMA,N,MAIRINI,-3.5317307,138.6582341\n",
            "\n",
            "250000,Papua,251800,Kab. Tolikara,251814,Kec. Kuari,60302215,SD INPRES KUARI,SD,N,Kuari,-3.5181000,138.5295000\n",
            "\n"
          ]
        }
      ]
    },
    {
      "cell_type": "code",
      "source": [
        "# =====================================================\n",
        "# 4. Menampilkan Struktur Data\n",
        "# =====================================================\n",
        "file_path = '/content/drive/MyDrive/DataMining/Data_EDA/Dataset_kotor/messy_data_school.csv'\n",
        "df = pd.read_csv(file_path)\n",
        "\n",
        "print(\"\\n📊 Informasi Dataset:\")\n",
        "print(df.info())\n",
        "\n",
        "print(\"\\n🧩 Tipe Data Tiap Kolom:\")\n",
        "print(df.dtypes)\n",
        "\n",
        "print(\"\\n🪄 5 Data Teratas:\")\n",
        "print(df.head())"
      ],
      "metadata": {
        "colab": {
          "base_uri": "https://localhost:8080/"
        },
        "id": "DqxM7cKcE5Gq",
        "outputId": "8c1c350b-d986-4699-9a14-edf25806e837"
      },
      "execution_count": null,
      "outputs": [
        {
          "output_type": "stream",
          "name": "stderr",
          "text": [
            "/tmp/ipython-input-2557406118.py:5: DtypeWarning: Columns (6) have mixed types. Specify dtype option on import or set low_memory=False.\n",
            "  df = pd.read_csv(file_path)\n"
          ]
        },
        {
          "output_type": "stream",
          "name": "stdout",
          "text": [
            "\n",
            "📊 Informasi Dataset:\n",
            "<class 'pandas.core.frame.DataFrame'>\n",
            "RangeIndex: 215372 entries, 0 to 215371\n",
            "Data columns (total 13 columns):\n",
            " #   Column         Non-Null Count   Dtype  \n",
            "---  ------         --------------   -----  \n",
            " 0   province_id    215372 non-null  int64  \n",
            " 1   province_name  215372 non-null  object \n",
            " 2   city_id        215372 non-null  int64  \n",
            " 3   city_name      215372 non-null  object \n",
            " 4   district_id    215372 non-null  int64  \n",
            " 5   district       215372 non-null  object \n",
            " 6   npsn           215372 non-null  object \n",
            " 7   school_name    215372 non-null  object \n",
            " 8   stage          215372 non-null  object \n",
            " 9   status         215372 non-null  object \n",
            " 10  street_name    215370 non-null  object \n",
            " 11  lat            214222 non-null  float64\n",
            " 12  long           214222 non-null  float64\n",
            "dtypes: float64(2), int64(3), object(8)\n",
            "memory usage: 21.4+ MB\n",
            "None\n",
            "\n",
            "🧩 Tipe Data Tiap Kolom:\n",
            "province_id        int64\n",
            "province_name     object\n",
            "city_id            int64\n",
            "city_name         object\n",
            "district_id        int64\n",
            "district          object\n",
            "npsn              object\n",
            "school_name       object\n",
            "stage             object\n",
            "status            object\n",
            "street_name       object\n",
            "lat              float64\n",
            "long             float64\n",
            "dtype: object\n",
            "\n",
            "🪄 5 Data Teratas:\n",
            "   province_id province_name  city_id      city_name  district_id  \\\n",
            "0       250000         Papua   251800  Kab. Tolikara       251831   \n",
            "1       250000         Papua   251800  Kab. Tolikara       251822   \n",
            "2       250000         Papua   251800  Kab. Tolikara       251803   \n",
            "3       250000         Papua   251800  Kab. Tolikara       251814   \n",
            "4       250000         Papua   251800  Kab. Tolikara       251802   \n",
            "\n",
            "           district      npsn          school_name stage status street_name  \\\n",
            "0  Kec. Gilungbandu  60303704       SMP SATAP KAGI   SMP      N   Gilubandu   \n",
            "1        Kec. Wunin  60302267    SD YPPGI WURINERI    SD      S       Wunin   \n",
            "2    Kec. Bokondini  60302279       SMAN BOKONDINI   SMA      N     MAIRINI   \n",
            "3        Kec. Kuari  60302215      SD INPRES KUARI    SD      N       Kuari   \n",
            "4     Kec. Karubaga  60302283  SMAS YPPGI KARUBAGA   SMA      S      AMPERA   \n",
            "\n",
            "        lat        long  \n",
            "0 -3.415995  138.339704  \n",
            "1 -3.479000  138.680000  \n",
            "2 -3.531731  138.658234  \n",
            "3 -3.518100  138.529500  \n",
            "4 -3.449100  138.598800  \n"
          ]
        }
      ]
    },
    {
      "cell_type": "code",
      "source": [
        "# =====================================================\n",
        "# 5. Data Cleansing - Standarisasi Nama Kolom\n",
        "# =====================================================\n",
        "df.columns = (\n",
        "    df.columns\n",
        "    .str.strip()\n",
        "    .str.title()\n",
        "    .str.replace(' ', '_')\n",
        "    .str.replace('-', '_')\n",
        ")\n",
        "\n",
        "print(\"\\n✅ Nama Kolom Setelah Standarisasi:\")\n",
        "print(df.columns)"
      ],
      "metadata": {
        "colab": {
          "base_uri": "https://localhost:8080/"
        },
        "id": "BFQBGPxJGAz_",
        "outputId": "bc9a72f0-8fcf-47ca-e847-76a58992224c"
      },
      "execution_count": null,
      "outputs": [
        {
          "output_type": "stream",
          "name": "stdout",
          "text": [
            "\n",
            "✅ Nama Kolom Setelah Standarisasi:\n",
            "Index(['Province_Id', 'Province_Name', 'City_Id', 'City_Name', 'District_Id',\n",
            "       'District', 'Npsn', 'School_Name', 'Stage', 'Status', 'Street_Name',\n",
            "       'Lat', 'Long'],\n",
            "      dtype='object')\n"
          ]
        }
      ]
    },
    {
      "cell_type": "code",
      "source": [
        "# =====================================================\n",
        "# 6. Cleansing Kolom Provinsi\n",
        "# =====================================================\n",
        "# Cek apakah kolom Provinsi ada\n",
        "print(\"\\nCek apakah kolom 'Provinsi' tersedia:\")\n",
        "print('Provinsi' in df.columns)\n",
        "\n",
        "if 'Provinsi' in df.columns:\n",
        "    df['Provinsi'] = df['Provinsi'].astype(str).str.strip().str.title()\n",
        "    df['Provinsi'] = df['Provinsi'].replace({\n",
        "        'Dki_Jakarta': 'DKI Jakarta',\n",
        "        'Dki': 'DKI Jakarta',\n",
        "        'Jawa_Timur': 'Jawa Timur',\n",
        "        'Jawa_Barat': 'Jawa Barat'\n",
        "    })\n",
        "    print(\"\\n✅ Contoh hasil kolom Provinsi:\")\n",
        "    print(df['Provinsi'].unique()[:20])\n",
        "else:\n",
        "    print(\"⚠️ Kolom 'Provinsi' tidak ditemukan di dataset!\")"
      ],
      "metadata": {
        "colab": {
          "base_uri": "https://localhost:8080/"
        },
        "id": "9JKWErTWGC2c",
        "outputId": "6ea59e26-cec4-4951-f849-8c68c0c7cd70"
      },
      "execution_count": null,
      "outputs": [
        {
          "output_type": "stream",
          "name": "stdout",
          "text": [
            "\n",
            "Cek apakah kolom 'Provinsi' tersedia:\n",
            "False\n",
            "⚠️ Kolom 'Provinsi' tidak ditemukan di dataset!\n"
          ]
        }
      ]
    },
    {
      "cell_type": "code",
      "source": [
        "# =====================================================\n",
        "# 7. Cleansing Kolom Jenjang / Tingkatan Sekolah\n",
        "# =====================================================\n",
        "if 'Jenjang' in df.columns:\n",
        "    df['Jenjang'] = df['Jenjang'].astype(str).str.strip().str.upper()\n",
        "    df['Jenjang'] = df['Jenjang'].replace({\n",
        "        'SDN': 'SD',\n",
        "        'SMKN': 'SMK',\n",
        "        'SMAN': 'SMA'\n",
        "    })\n",
        "    print(\"\\n✅ Nilai unik kolom Jenjang setelah dibersihkan:\")\n",
        "    print(df['Jenjang'].unique()[:20])\n",
        "else:\n",
        "    print(\"⚠️ Kolom 'Jenjang' tidak ditemukan di dataset!\")\n"
      ],
      "metadata": {
        "colab": {
          "base_uri": "https://localhost:8080/"
        },
        "id": "cjdkUAqxGJ4z",
        "outputId": "2b282e25-848a-48c6-a432-e1a83c4f5192"
      },
      "execution_count": null,
      "outputs": [
        {
          "output_type": "stream",
          "name": "stdout",
          "text": [
            "⚠️ Kolom 'Jenjang' tidak ditemukan di dataset!\n"
          ]
        }
      ]
    },
    {
      "cell_type": "code",
      "source": [
        "# =====================================================\n",
        "# 8. Cleansing Kolom Jumlah Sekolah\n",
        "# =====================================================\n",
        "if 'Jumlah_Sekolah' in df.columns:\n",
        "    df['Jumlah_Sekolah'] = (\n",
        "        df['Jumlah_Sekolah']\n",
        "        .astype(str)\n",
        "        .str.replace(',', '')\n",
        "        .str.replace('.', '')\n",
        "    )\n",
        "    df['Jumlah_Sekolah'] = pd.to_numeric(df['Jumlah_Sekolah'], errors='coerce')\n",
        "    print(\"\\n✅ Kolom Jumlah_Sekolah setelah dibersihkan:\")\n",
        "    print(df['Jumlah_Sekolah'].head(10))\n",
        "else:\n",
        "    print(\"⚠️ Kolom 'Jumlah_Sekolah' tidak ditemukan di dataset!\")"
      ],
      "metadata": {
        "colab": {
          "base_uri": "https://localhost:8080/"
        },
        "id": "cFIsmHIhGL9b",
        "outputId": "d882f1ad-42f0-49d6-8cfd-9bc679a19a0a"
      },
      "execution_count": null,
      "outputs": [
        {
          "output_type": "stream",
          "name": "stdout",
          "text": [
            "⚠️ Kolom 'Jumlah_Sekolah' tidak ditemukan di dataset!\n"
          ]
        }
      ]
    },
    {
      "cell_type": "code",
      "source": [
        "# =====================================================\n",
        "# 9. Menghapus Duplikasi Data\n",
        "# =====================================================\n",
        "duplicate_rows = df[df.duplicated(keep=False)]\n",
        "print(\"\\nJumlah data duplikat:\", len(duplicate_rows))\n",
        "\n",
        "df_cleaned = df.drop_duplicates(keep='first')\n",
        "print(\"Jumlah data setelah menghapus duplikasi:\", len(df_cleaned))"
      ],
      "metadata": {
        "colab": {
          "base_uri": "https://localhost:8080/"
        },
        "id": "9nulMmwuGNzO",
        "outputId": "616bebdb-5b69-4d3e-a5d1-043da7a43dac"
      },
      "execution_count": null,
      "outputs": [
        {
          "output_type": "stream",
          "name": "stdout",
          "text": [
            "\n",
            "Jumlah data duplikat: 0\n",
            "Jumlah data setelah menghapus duplikasi: 215372\n"
          ]
        }
      ]
    },
    {
      "cell_type": "code",
      "source": [
        "# =====================================================\n",
        "# 10. Menangani Missing Value\n",
        "# =====================================================\n",
        "if 'Jumlah_Sekolah' in df_cleaned.columns:\n",
        "    df_cleaned['Jumlah_Sekolah'].fillna(df_cleaned['Jumlah_Sekolah'].mean(), inplace=True)\n",
        "    print(\"\\n✅ Missing value pada kolom Jumlah_Sekolah sudah diganti dengan nilai rata-rata.\")"
      ],
      "metadata": {
        "id": "SvMfYwysGP1c"
      },
      "execution_count": null,
      "outputs": []
    },
    {
      "cell_type": "code",
      "source": [
        "# =====================================================\n",
        "# 11. Menyimpan Data Bersih\n",
        "# =====================================================\n",
        "output_path = '/content/drive/MyDrive/DataMining/Data_EDA/Dataset_bersih/cleaned_data_school_Idn.csv'\n",
        "df_cleaned.to_csv(output_path, index=False)\n",
        "print(f\"\\n✅ File berhasil disimpan di: {output_path}\")"
      ],
      "metadata": {
        "colab": {
          "base_uri": "https://localhost:8080/"
        },
        "id": "pnR6yf5IGSjB",
        "outputId": "2ed9855c-6a85-4d42-9e61-145c61d44f54"
      },
      "execution_count": null,
      "outputs": [
        {
          "output_type": "stream",
          "name": "stdout",
          "text": [
            "\n",
            "✅ File berhasil disimpan di: /content/drive/MyDrive/DataMining/Data_EDA/Dataset_bersih/cleaned_data_school_Idn.csv\n"
          ]
        }
      ]
    },
    {
      "cell_type": "code",
      "source": [
        "# =====================================================\n",
        "# 12. Preview Data Bersih\n",
        "# =====================================================\n",
        "print(\"\\n=== Data Setelah Cleansing ===\")\n",
        "print(df_cleaned.head(15))"
      ],
      "metadata": {
        "colab": {
          "base_uri": "https://localhost:8080/"
        },
        "id": "56s-M3aJ5fDC",
        "outputId": "257baa29-00aa-4e81-c3bb-945ac479b73c"
      },
      "execution_count": null,
      "outputs": [
        {
          "output_type": "stream",
          "name": "stdout",
          "text": [
            "\n",
            "=== Data Setelah Cleansing ===\n",
            "    Province_Id Province_Name  City_Id        City_Name  District_Id  \\\n",
            "0        250000         Papua   251800    Kab. Tolikara       251831   \n",
            "1        250000         Papua   251800    Kab. Tolikara       251822   \n",
            "2        250000         Papua   251800    Kab. Tolikara       251803   \n",
            "3        250000         Papua   251800    Kab. Tolikara       251814   \n",
            "4        250000         Papua   251800    Kab. Tolikara       251802   \n",
            "5        250000         Papua   251800    Kab. Tolikara       251822   \n",
            "6        250000         Papua   251800    Kab. Tolikara       251823   \n",
            "7        250000         Papua   253000  Kab. Lanny Jaya       253007   \n",
            "8        250000         Papua   253000  Kab. Lanny Jaya       253002   \n",
            "9        250000         Papua   253000  Kab. Lanny Jaya       253007   \n",
            "10       250000         Papua   253000  Kab. Lanny Jaya       253003   \n",
            "11       250000         Papua   253000  Kab. Lanny Jaya       253008   \n",
            "12       250000         Papua   253000  Kab. Lanny Jaya       253004   \n",
            "13       250000         Papua   253000  Kab. Lanny Jaya       253009   \n",
            "14       250000         Papua   253000  Kab. Lanny Jaya       253009   \n",
            "\n",
            "            District      Npsn             School_Name Stage Status  \\\n",
            "0   Kec. Gilungbandu  60303704          SMP SATAP KAGI   SMP      N   \n",
            "1         Kec. Wunin  60302267       SD YPPGI WURINERI    SD      S   \n",
            "2     Kec. Bokondini  60302279          SMAN BOKONDINI   SMA      N   \n",
            "3         Kec. Kuari  60302215         SD INPRES KUARI    SD      N   \n",
            "4      Kec. Karubaga  60302283     SMAS YPPGI KARUBAGA   SMA      S   \n",
            "5         Kec. Wunin  60302256        SD NEGERI POKEGI    SD      N   \n",
            "6          Kec. Wina  60302238       SD INPRES YOGWEME    SD      N   \n",
            "7      Kec. Tiomneri  69938686      SD Negeri Kuwopaga    SD      N   \n",
            "8        Kec. Pirime  60303495  SMP YPPGI WIRINGGAMBUT   SMP      S   \n",
            "9      Kec. Tiomneri  60301433    SD INPRES MILINGGAME    SD      N   \n",
            "10         Kec. Tiom  60301498        SD NEGERI LONGGI    SD      N   \n",
            "11        Kec. Dimba  60303550      SMP NEGERI 1 DIMBA   SMP      N   \n",
            "12     Kec. Balingga  69938692        SD Negeri Popome    SD      N   \n",
            "13      Kec. Gamelia  60303533         SD YPPGI YUNERI    SD      S   \n",
            "14      Kec. Gamelia  60301448        SD INPRES PAPANI    SD      N   \n",
            "\n",
            "                 Street_Name       Lat        Long  \n",
            "0                  Gilubandu -3.415995  138.339704  \n",
            "1                      Wunin -3.479000  138.680000  \n",
            "2                    MAIRINI -3.531731  138.658234  \n",
            "3                      Kuari -3.518100  138.529500  \n",
            "4                     AMPERA -3.449100  138.598800  \n",
            "5                     Pokegi -3.491118  138.660471  \n",
            "6                    Yogweme -3.421347  138.222339  \n",
            "7   Jl.Raya Tiom-Puncak Jaya -3.859362  138.225961  \n",
            "8                       Golo -3.931900  138.447800  \n",
            "9                 Milinggame -3.885500  138.405700  \n",
            "10                 Air Garam -3.922900  138.367200  \n",
            "11                     Dimba -3.858500  138.531900  \n",
            "12     Jl.Raya Tiom-Balingga -4.082925  138.247387  \n",
            "13                    Talemo -3.941100  138.624000  \n",
            "14                     Odika -3.871200  138.585800  \n"
          ]
        }
      ]
    }
  ]
}